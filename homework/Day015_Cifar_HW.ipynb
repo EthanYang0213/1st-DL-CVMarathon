{
 "cells": [
  {
   "cell_type": "markdown",
   "metadata": {},
   "source": [
    "## 『本次練習內容』\n",
    "#### 運用這幾天所學觀念搭建一個CNN分類器"
   ]
  },
  {
   "cell_type": "markdown",
   "metadata": {},
   "source": [
    "## 『本次練習目的』\n",
    "  #### 熟悉CNN分類器搭建步驟與原理\n",
    "  #### 學員們可以嘗試不同搭法，如使用不同的Maxpooling層，用GlobalAveragePooling取代Flatten等等"
   ]
  },
  {
   "cell_type": "code",
   "execution_count": 1,
   "metadata": {},
   "outputs": [
    {
     "name": "stderr",
     "output_type": "stream",
     "text": [
      "Using TensorFlow backend.\n"
     ]
    }
   ],
   "source": [
    "from keras.models import Sequential\n",
    "from keras.layers import Convolution2D\n",
    "from keras.layers import MaxPooling2D\n",
    "from keras.layers import Flatten\n",
    "from keras.layers import Dense\n",
    "from keras.layers import Dropout\n",
    "from keras.layers import BatchNormalization\n",
    "from keras.layers import Activation\n",
    "from keras.datasets import cifar10\n",
    "import numpy as np\n",
    "import tensorflow as tf\n",
    "from sklearn.preprocessing import OneHotEncoder\n"
   ]
  },
  {
   "cell_type": "code",
   "execution_count": 2,
   "metadata": {},
   "outputs": [
    {
     "name": "stdout",
     "output_type": "stream",
     "text": [
      "(50000, 32, 32, 3)\n"
     ]
    }
   ],
   "source": [
    "(x_train, y_train), (x_test, y_test) = cifar10.load_data()\n",
    "\n",
    "print(x_train.shape) #(50000, 32, 32, 3)\n",
    "\n",
    "## Normalize Data\n",
    "def normalize(X_train,X_test):\n",
    "        mean = np.mean(X_train,axis=(0,1,2,3))\n",
    "        std = np.std(X_train, axis=(0, 1, 2, 3))\n",
    "        X_train = (X_train-mean)/(std+1e-7)\n",
    "        X_test = (X_test-mean)/(std+1e-7) \n",
    "        return X_train, X_test,mean,std\n",
    "    \n",
    "    \n",
    "## Normalize Training and Testset    \n",
    "x_train, x_test,mean_train,std_train = normalize(x_train, x_test) "
   ]
  },
  {
   "cell_type": "code",
   "execution_count": 3,
   "metadata": {},
   "outputs": [
    {
     "name": "stderr",
     "output_type": "stream",
     "text": [
      "D:\\Anaconda3\\lib\\site-packages\\sklearn\\preprocessing\\_encoders.py:415: FutureWarning: The handling of integer data will change in version 0.22. Currently, the categories are determined based on the range [0, max(values)], while in the future they will be determined based on the unique values.\n",
      "If you want the future behaviour and silence this warning, you can specify \"categories='auto'\".\n",
      "In case you used a LabelEncoder before this OneHotEncoder to convert the categories to integers, then you can now use the OneHotEncoder directly.\n",
      "  warnings.warn(msg, FutureWarning)\n"
     ]
    }
   ],
   "source": [
    "## OneHot Label 由(None, 1)-(None, 10)\n",
    "## ex. label=2,變成[0,0,1,0,0,0,0,0,0,0]\n",
    "one_hot=OneHotEncoder()\n",
    "y_train=one_hot.fit_transform(y_train).toarray()\n",
    "y_test=one_hot.transform(y_test).toarray()"
   ]
  },
  {
   "cell_type": "code",
   "execution_count": 4,
   "metadata": {},
   "outputs": [
    {
     "name": "stdout",
     "output_type": "stream",
     "text": [
      "WARNING:tensorflow:From D:\\Anaconda3\\lib\\site-packages\\keras\\backend\\tensorflow_backend.py:66: The name tf.get_default_graph is deprecated. Please use tf.compat.v1.get_default_graph instead.\n",
      "\n",
      "WARNING:tensorflow:From D:\\Anaconda3\\lib\\site-packages\\keras\\backend\\tensorflow_backend.py:541: The name tf.placeholder is deprecated. Please use tf.compat.v1.placeholder instead.\n",
      "\n",
      "WARNING:tensorflow:From D:\\Anaconda3\\lib\\site-packages\\keras\\backend\\tensorflow_backend.py:4432: The name tf.random_uniform is deprecated. Please use tf.random.uniform instead.\n",
      "\n",
      "WARNING:tensorflow:From D:\\Anaconda3\\lib\\site-packages\\keras\\backend\\tensorflow_backend.py:190: The name tf.get_default_session is deprecated. Please use tf.compat.v1.get_default_session instead.\n",
      "\n",
      "WARNING:tensorflow:From D:\\Anaconda3\\lib\\site-packages\\keras\\backend\\tensorflow_backend.py:197: The name tf.ConfigProto is deprecated. Please use tf.compat.v1.ConfigProto instead.\n",
      "\n",
      "WARNING:tensorflow:From D:\\Anaconda3\\lib\\site-packages\\keras\\backend\\tensorflow_backend.py:2041: The name tf.nn.fused_batch_norm is deprecated. Please use tf.compat.v1.nn.fused_batch_norm instead.\n",
      "\n",
      "WARNING:tensorflow:From D:\\Anaconda3\\lib\\site-packages\\keras\\backend\\tensorflow_backend.py:4267: The name tf.nn.max_pool is deprecated. Please use tf.nn.max_pool2d instead.\n",
      "\n",
      "WARNING:tensorflow:From D:\\Anaconda3\\lib\\site-packages\\keras\\optimizers.py:793: The name tf.train.Optimizer is deprecated. Please use tf.compat.v1.train.Optimizer instead.\n",
      "\n",
      "WARNING:tensorflow:From D:\\Anaconda3\\lib\\site-packages\\tensorflow\\python\\ops\\math_grad.py:1250: add_dispatch_support.<locals>.wrapper (from tensorflow.python.ops.array_ops) is deprecated and will be removed in a future version.\n",
      "Instructions for updating:\n",
      "Use tf.where in 2.0, which has the same broadcast rule as np.where\n"
     ]
    },
    {
     "name": "stderr",
     "output_type": "stream",
     "text": [
      "D:\\Anaconda3\\lib\\site-packages\\ipykernel_launcher.py:23: UserWarning: Update your `Dense` call to the Keras 2 API: `Dense(activation=\"softmax\", units=10)`\n"
     ]
    },
    {
     "name": "stdout",
     "output_type": "stream",
     "text": [
      "Epoch 1/100\n",
      "50000/50000 [==============================] - 24s 482us/step - loss: 1.4756 - acc: 0.5098\n",
      "Epoch 2/100\n",
      "50000/50000 [==============================] - 22s 444us/step - loss: 0.9997 - acc: 0.6494\n",
      "Epoch 3/100\n",
      "50000/50000 [==============================] - 22s 446us/step - loss: 0.8313 - acc: 0.7044\n",
      "Epoch 4/100\n",
      "50000/50000 [==============================] - 22s 447us/step - loss: 0.7028 - acc: 0.7529\n",
      "Epoch 5/100\n",
      "50000/50000 [==============================] - 22s 448us/step - loss: 0.5869 - acc: 0.7934\n",
      "Epoch 6/100\n",
      "50000/50000 [==============================] - 22s 444us/step - loss: 0.4942 - acc: 0.8254\n",
      "Epoch 7/100\n",
      "50000/50000 [==============================] - 22s 447us/step - loss: 0.4100 - acc: 0.8560\n",
      "Epoch 8/100\n",
      "50000/50000 [==============================] - 22s 447us/step - loss: 0.3294 - acc: 0.8836\n",
      "Epoch 9/100\n",
      "50000/50000 [==============================] - 22s 444us/step - loss: 0.2761 - acc: 0.9048\n",
      "Epoch 10/100\n",
      "50000/50000 [==============================] - 22s 447us/step - loss: 0.2405 - acc: 0.91562s\n",
      "Epoch 11/100\n",
      "50000/50000 [==============================] - 22s 448us/step - loss: 0.1994 - acc: 0.9310\n",
      "Epoch 12/100\n",
      "50000/50000 [==============================] - 22s 449us/step - loss: 0.1693 - acc: 0.94261s - loss: 0.1662 \n",
      "Epoch 13/100\n",
      "50000/50000 [==============================] - 22s 447us/step - loss: 0.1669 - acc: 0.9422\n",
      "Epoch 14/100\n",
      "50000/50000 [==============================] - 22s 444us/step - loss: 0.1500 - acc: 0.9483\n",
      "Epoch 15/100\n",
      "50000/50000 [==============================] - 22s 444us/step - loss: 0.1199 - acc: 0.95900s - loss: 0.1200 - acc: 0.959\n",
      "Epoch 16/100\n",
      "50000/50000 [==============================] - 22s 445us/step - loss: 0.1071 - acc: 0.9638\n",
      "Epoch 17/100\n",
      "50000/50000 [==============================] - 22s 448us/step - loss: 0.1254 - acc: 0.9579\n",
      "Epoch 18/100\n",
      "50000/50000 [==============================] - 22s 446us/step - loss: 0.1138 - acc: 0.9621\n",
      "Epoch 19/100\n",
      "50000/50000 [==============================] - 22s 449us/step - loss: 0.1012 - acc: 0.9658\n",
      "Epoch 20/100\n",
      "50000/50000 [==============================] - 22s 446us/step - loss: 0.0805 - acc: 0.9731\n",
      "Epoch 21/100\n",
      "50000/50000 [==============================] - 22s 447us/step - loss: 0.0865 - acc: 0.9709\n",
      "Epoch 22/100\n",
      "50000/50000 [==============================] - 22s 445us/step - loss: 0.0957 - acc: 0.9686\n",
      "Epoch 23/100\n",
      "50000/50000 [==============================] - 22s 449us/step - loss: 0.0831 - acc: 0.9721\n",
      "Epoch 24/100\n",
      "50000/50000 [==============================] - 22s 446us/step - loss: 0.0727 - acc: 0.9764\n",
      "Epoch 25/100\n",
      "50000/50000 [==============================] - 22s 447us/step - loss: 0.0635 - acc: 0.97890s - loss: 0.0629 - acc: \n",
      "Epoch 26/100\n",
      "50000/50000 [==============================] - 22s 447us/step - loss: 0.0631 - acc: 0.9793\n",
      "Epoch 27/100\n",
      "50000/50000 [==============================] - 22s 447us/step - loss: 0.0800 - acc: 0.9744\n",
      "Epoch 28/100\n",
      "50000/50000 [==============================] - 22s 447us/step - loss: 0.0783 - acc: 0.9752\n",
      "Epoch 29/100\n",
      "50000/50000 [==============================] - 22s 445us/step - loss: 0.0543 - acc: 0.9832\n",
      "Epoch 30/100\n",
      "50000/50000 [==============================] - 22s 447us/step - loss: 0.0601 - acc: 0.9809\n",
      "Epoch 31/100\n",
      "50000/50000 [==============================] - 22s 446us/step - loss: 0.0583 - acc: 0.98082s\n",
      "Epoch 32/100\n",
      "50000/50000 [==============================] - 22s 448us/step - loss: 0.0499 - acc: 0.9836\n",
      "Epoch 33/100\n",
      "50000/50000 [==============================] - 22s 449us/step - loss: 0.0606 - acc: 0.9802\n",
      "Epoch 34/100\n",
      "50000/50000 [==============================] - 22s 448us/step - loss: 0.0624 - acc: 0.9803\n",
      "Epoch 35/100\n",
      "50000/50000 [==============================] - 23s 450us/step - loss: 0.0558 - acc: 0.9817\n",
      "Epoch 36/100\n",
      "50000/50000 [==============================] - 22s 448us/step - loss: 0.0467 - acc: 0.9853\n",
      "Epoch 37/100\n",
      "50000/50000 [==============================] - 22s 447us/step - loss: 0.0435 - acc: 0.9855\n",
      "Epoch 38/100\n",
      "50000/50000 [==============================] - 22s 445us/step - loss: 0.0498 - acc: 0.9841\n",
      "Epoch 39/100\n",
      "50000/50000 [==============================] - 22s 447us/step - loss: 0.0425 - acc: 0.98590s - loss: 0.0424 - acc: 0.986\n",
      "Epoch 40/100\n",
      "50000/50000 [==============================] - 22s 449us/step - loss: 0.0481 - acc: 0.9854\n",
      "Epoch 41/100\n",
      "50000/50000 [==============================] - 22s 449us/step - loss: 0.0594 - acc: 0.9814\n",
      "Epoch 42/100\n",
      "50000/50000 [==============================] - 22s 447us/step - loss: 0.0443 - acc: 0.9864\n",
      "Epoch 43/100\n",
      "50000/50000 [==============================] - 22s 445us/step - loss: 0.0429 - acc: 0.9861\n",
      "Epoch 44/100\n",
      "50000/50000 [==============================] - 22s 449us/step - loss: 0.0405 - acc: 0.9871\n",
      "Epoch 45/100\n",
      "50000/50000 [==============================] - 22s 449us/step - loss: 0.0287 - acc: 0.9910\n",
      "Epoch 46/100\n",
      "50000/50000 [==============================] - 22s 448us/step - loss: 0.0391 - acc: 0.9872\n",
      "Epoch 47/100\n",
      "50000/50000 [==============================] - 22s 449us/step - loss: 0.0552 - acc: 0.9834\n",
      "Epoch 48/100\n",
      "50000/50000 [==============================] - 22s 446us/step - loss: 0.0385 - acc: 0.9879\n",
      "Epoch 49/100\n",
      "50000/50000 [==============================] - 22s 447us/step - loss: 0.0340 - acc: 0.9896\n",
      "Epoch 50/100\n",
      "50000/50000 [==============================] - 22s 449us/step - loss: 0.0335 - acc: 0.9899\n",
      "Epoch 51/100\n",
      "50000/50000 [==============================] - 22s 448us/step - loss: 0.0331 - acc: 0.9899\n",
      "Epoch 52/100\n",
      "50000/50000 [==============================] - 22s 449us/step - loss: 0.0364 - acc: 0.9884\n",
      "Epoch 53/100\n",
      "50000/50000 [==============================] - 22s 447us/step - loss: 0.0339 - acc: 0.9889\n",
      "Epoch 54/100\n",
      "50000/50000 [==============================] - 22s 444us/step - loss: 0.0476 - acc: 0.9854\n",
      "Epoch 55/100\n",
      "50000/50000 [==============================] - 22s 446us/step - loss: 0.0324 - acc: 0.9892\n",
      "Epoch 56/100\n",
      "50000/50000 [==============================] - 23s 453us/step - loss: 0.0195 - acc: 0.9936\n",
      "Epoch 57/100\n",
      "50000/50000 [==============================] - 23s 461us/step - loss: 0.0247 - acc: 0.9926\n",
      "Epoch 58/100\n",
      "50000/50000 [==============================] - 23s 451us/step - loss: 0.0426 - acc: 0.9866\n",
      "Epoch 59/100\n",
      "50000/50000 [==============================] - 22s 443us/step - loss: 0.0364 - acc: 0.9888\n",
      "Epoch 60/100\n",
      "50000/50000 [==============================] - 22s 441us/step - loss: 0.0289 - acc: 0.9912\n",
      "Epoch 61/100\n",
      "50000/50000 [==============================] - 22s 442us/step - loss: 0.0328 - acc: 0.9901\n",
      "Epoch 62/100\n",
      "50000/50000 [==============================] - 22s 441us/step - loss: 0.0326 - acc: 0.98981s - loss: 0.0326 -\n",
      "Epoch 63/100\n",
      "50000/50000 [==============================] - 22s 443us/step - loss: 0.0255 - acc: 0.99241s - loss: 0 - ETA: 0s - loss: 0.0253 - acc: 0.99\n",
      "Epoch 64/100\n",
      "50000/50000 [==============================] - 22s 441us/step - loss: 0.0319 - acc: 0.9898\n",
      "Epoch 65/100\n",
      "50000/50000 [==============================] - 22s 441us/step - loss: 0.0263 - acc: 0.9918\n",
      "Epoch 66/100\n",
      "50000/50000 [==============================] - 22s 441us/step - loss: 0.0268 - acc: 0.9913\n",
      "Epoch 67/100\n",
      "50000/50000 [==============================] - 22s 442us/step - loss: 0.0266 - acc: 0.9919\n",
      "Epoch 68/100\n",
      "50000/50000 [==============================] - 22s 441us/step - loss: 0.0175 - acc: 0.9943\n",
      "Epoch 69/100\n",
      "50000/50000 [==============================] - 22s 449us/step - loss: 0.0244 - acc: 0.9929\n",
      "Epoch 70/100\n",
      "50000/50000 [==============================] - 22s 443us/step - loss: 0.0346 - acc: 0.9891\n",
      "Epoch 71/100\n",
      "50000/50000 [==============================] - 22s 441us/step - loss: 0.0306 - acc: 0.99090s - loss: 0.0305 - acc: \n",
      "Epoch 72/100\n",
      "50000/50000 [==============================] - 22s 440us/step - loss: 0.0218 - acc: 0.9935\n",
      "Epoch 73/100\n",
      "50000/50000 [==============================] - 22s 440us/step - loss: 0.0265 - acc: 0.9916\n",
      "Epoch 74/100\n",
      "50000/50000 [==============================] - 22s 440us/step - loss: 0.0226 - acc: 0.9930\n",
      "Epoch 75/100\n",
      "50000/50000 [==============================] - 22s 441us/step - loss: 0.0205 - acc: 0.99340s - loss: 0.0202 - acc: 0\n",
      "Epoch 76/100\n",
      "50000/50000 [==============================] - 22s 440us/step - loss: 0.0215 - acc: 0.9934\n",
      "Epoch 77/100\n",
      "50000/50000 [==============================] - 22s 440us/step - loss: 0.0215 - acc: 0.9930\n",
      "Epoch 78/100\n",
      "50000/50000 [==============================] - 22s 440us/step - loss: 0.0314 - acc: 0.9903\n",
      "Epoch 79/100\n",
      "50000/50000 [==============================] - 22s 440us/step - loss: 0.0259 - acc: 0.9923\n",
      "Epoch 80/100\n",
      "50000/50000 [==============================] - 22s 441us/step - loss: 0.0183 - acc: 0.9941\n",
      "Epoch 81/100\n",
      "50000/50000 [==============================] - 22s 439us/step - loss: 0.0203 - acc: 0.9937\n",
      "Epoch 82/100\n",
      "50000/50000 [==============================] - 22s 440us/step - loss: 0.0217 - acc: 0.9932\n",
      "Epoch 83/100\n",
      "50000/50000 [==============================] - 22s 441us/step - loss: 0.0200 - acc: 0.9940\n",
      "Epoch 84/100\n",
      "50000/50000 [==============================] - 22s 440us/step - loss: 0.0227 - acc: 0.9929\n",
      "Epoch 85/100\n",
      "50000/50000 [==============================] - 22s 440us/step - loss: 0.0303 - acc: 0.9904\n",
      "Epoch 86/100\n",
      "50000/50000 [==============================] - 22s 442us/step - loss: 0.0204 - acc: 0.9937\n",
      "Epoch 87/100\n",
      "50000/50000 [==============================] - 22s 442us/step - loss: 0.0120 - acc: 0.9964\n",
      "Epoch 88/100\n",
      "50000/50000 [==============================] - 22s 443us/step - loss: 0.0275 - acc: 0.9920\n",
      "Epoch 89/100\n",
      "50000/50000 [==============================] - 22s 442us/step - loss: 0.0204 - acc: 0.9936\n",
      "Epoch 90/100\n",
      "50000/50000 [==============================] - 22s 444us/step - loss: 0.0220 - acc: 0.9934\n",
      "Epoch 91/100\n",
      "50000/50000 [==============================] - 22s 440us/step - loss: 0.0211 - acc: 0.9936\n",
      "Epoch 92/100\n",
      "50000/50000 [==============================] - 22s 442us/step - loss: 0.0167 - acc: 0.99501s - loss: 0.0157\n",
      "Epoch 93/100\n",
      "50000/50000 [==============================] - 22s 441us/step - loss: 0.0220 - acc: 0.9934\n",
      "Epoch 94/100\n",
      "50000/50000 [==============================] - 22s 442us/step - loss: 0.0191 - acc: 0.9941\n",
      "Epoch 95/100\n",
      "50000/50000 [==============================] - 22s 440us/step - loss: 0.0168 - acc: 0.9948\n",
      "Epoch 96/100\n",
      "50000/50000 [==============================] - 22s 441us/step - loss: 0.0187 - acc: 0.9945\n",
      "Epoch 97/100\n",
      "50000/50000 [==============================] - 22s 440us/step - loss: 0.0188 - acc: 0.9937\n",
      "Epoch 98/100\n",
      "50000/50000 [==============================] - 22s 440us/step - loss: 0.0169 - acc: 0.9952\n",
      "Epoch 99/100\n",
      "50000/50000 [==============================] - 22s 441us/step - loss: 0.0204 - acc: 0.9940\n",
      "Epoch 100/100\n",
      "50000/50000 [==============================] - 22s 441us/step - loss: 0.0243 - acc: 0.9932\n"
     ]
    },
    {
     "data": {
      "text/plain": [
       "<keras.callbacks.History at 0x29828732be0>"
      ]
     },
     "execution_count": 4,
     "metadata": {},
     "output_type": "execute_result"
    }
   ],
   "source": [
    "\n",
    "classifier=Sequential()\n",
    "\n",
    "#卷積組合\n",
    "classifier.add(Convolution2D(32, (3, 3), padding = 'same', input_shape = (32, 32, 3)))\n",
    "classifier.add(Activation('relu'))\n",
    "classifier.add(BatchNormalization())\n",
    "\n",
    "'''自己決定MaxPooling2D放在哪裡'''\n",
    "classifier.add(MaxPooling2D(pool_size=(2,2)))\n",
    "\n",
    "#卷積組合\n",
    "classifier.add(Convolution2D(64, (3, 3), padding = 'same'))\n",
    "classifier.add(BatchNormalization())\n",
    "\n",
    "#flatten\n",
    "classifier.add(Flatten())\n",
    "\n",
    "#FC\n",
    "classifier.add(Dense(100)) #output_dim=100,activation=relu\n",
    "classifier.add(Activation('relu'))\n",
    "\n",
    "#輸出\n",
    "classifier.add(Dense(output_dim=10,activation='softmax'))\n",
    "\n",
    "#超過兩個就要選categorical_crossentrophy\n",
    "classifier.compile(optimizer = 'adam', loss = 'categorical_crossentropy', metrics = ['accuracy'])\n",
    "classifier.fit(x_train,y_train,batch_size=100,epochs=100)"
   ]
  },
  {
   "cell_type": "markdown",
   "metadata": {},
   "source": [
    "## 預測新圖片，輸入影像前處理要與訓練時相同\n",
    "#### ((X-mean)/(std+1e-7) ):這裡的mean跟std是訓練集的\n",
    "## 維度如下方示範"
   ]
  },
  {
   "cell_type": "code",
   "execution_count": 5,
   "metadata": {},
   "outputs": [
    {
     "data": {
      "text/plain": [
       "array([[6.7521950e-07, 2.9551756e-04, 1.0976307e-01, 8.8319165e-01,\n",
       "        8.6638865e-06, 5.0409004e-04, 6.2358873e-03, 3.8745355e-07,\n",
       "        5.5817502e-08, 7.2850575e-08]], dtype=float32)"
      ]
     },
     "execution_count": 5,
     "metadata": {},
     "output_type": "execute_result"
    }
   ],
   "source": [
    "input_example=(np.zeros(shape=(1,32,32,3))-mean_train)/(std_train+1e-7) \n",
    "classifier.predict(input_example)"
   ]
  }
 ],
 "metadata": {
  "kernelspec": {
   "display_name": "Python 3",
   "language": "python",
   "name": "python3"
  },
  "language_info": {
   "codemirror_mode": {
    "name": "ipython",
    "version": 3
   },
   "file_extension": ".py",
   "mimetype": "text/x-python",
   "name": "python",
   "nbconvert_exporter": "python",
   "pygments_lexer": "ipython3",
   "version": "3.7.3"
  }
 },
 "nbformat": 4,
 "nbformat_minor": 2
}
